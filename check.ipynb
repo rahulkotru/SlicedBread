{
 "cells": [
  {
   "cell_type": "code",
   "execution_count": 3,
   "metadata": {},
   "outputs": [],
   "source": [
    "from PIL import Image\n",
    "import numpy as np\n",
    "Image.MAX_IMAGE_PIXELS=100000000000\n"
   ]
  },
  {
   "cell_type": "code",
   "execution_count": 4,
   "metadata": {},
   "outputs": [],
   "source": [
    "img1=Image.open(\"D:/28_GitHub/SlicedBread/Tester/Test.tif\")"
   ]
  },
  {
   "cell_type": "code",
   "execution_count": 5,
   "metadata": {},
   "outputs": [
    {
     "name": "stdout",
     "output_type": "stream",
     "text": [
      "TIFF\n"
     ]
    }
   ],
   "source": [
    "print(img1.format)\n",
    "12345678"
   ]
  },
  {
   "cell_type": "code",
   "execution_count": null,
   "metadata": {},
   "outputs": [
    {
     "ename": "Error",
     "evalue": "Canceled future for execute_request message before replies were done",
     "output_type": "error",
     "traceback": [
      "Error: Canceled future for execute_request message before replies were done",
      "at t.KernelShellFutureHandler.dispose (c:\\Users\\rrkot\\.vscode\\extensions\\ms-toolsai.jupyter-2022.3.1000901801\\out\\extension.js:2:1204175)",
      "at c:\\Users\\rrkot\\.vscode\\extensions\\ms-toolsai.jupyter-2022.3.1000901801\\out\\extension.js:2:1223227",
      "at Map.forEach (<anonymous>)",
      "at v._clearKernelState (c:\\Users\\rrkot\\.vscode\\extensions\\ms-toolsai.jupyter-2022.3.1000901801\\out\\extension.js:2:1223212)",
      "at v.dispose (c:\\Users\\rrkot\\.vscode\\extensions\\ms-toolsai.jupyter-2022.3.1000901801\\out\\extension.js:2:1216694)",
      "at c:\\Users\\rrkot\\.vscode\\extensions\\ms-toolsai.jupyter-2022.3.1000901801\\out\\extension.js:2:533674",
      "at t.swallowExceptions (c:\\Users\\rrkot\\.vscode\\extensions\\ms-toolsai.jupyter-2022.3.1000901801\\out\\extension.js:2:913059)",
      "at dispose (c:\\Users\\rrkot\\.vscode\\extensions\\ms-toolsai.jupyter-2022.3.1000901801\\out\\extension.js:2:533652)",
      "at t.RawSession.dispose (c:\\Users\\rrkot\\.vscode\\extensions\\ms-toolsai.jupyter-2022.3.1000901801\\out\\extension.js:2:537330)",
      "at runMicrotasks (<anonymous>)",
      "at processTicksAndRejections (node:internal/process/task_queues:96:5)"
     ]
    }
   ],
   "source": [
    "img2=np.asarray(img1)"
   ]
  },
  {
   "cell_type": "code",
   "execution_count": 3,
   "metadata": {},
   "outputs": [
    {
     "name": "stdout",
     "output_type": "stream",
     "text": [
      "Collecting ipyparallel\n",
      "  Downloading ipyparallel-8.2.1-py3-none-any.whl (297 kB)\n",
      "Requirement already satisfied: traitlets>=4.3 in d:\\2_miniconda\\lib\\site-packages (from ipyparallel) (5.1.1)\n",
      "Requirement already satisfied: ipykernel>=4.4 in d:\\2_miniconda\\lib\\site-packages (from ipyparallel) (6.4.1)\n",
      "Requirement already satisfied: decorator in d:\\2_miniconda\\lib\\site-packages (from ipyparallel) (5.1.1)\n",
      "Requirement already satisfied: entrypoints in d:\\2_miniconda\\lib\\site-packages (from ipyparallel) (0.3)\n",
      "Requirement already satisfied: pyzmq>=18 in d:\\2_miniconda\\lib\\site-packages (from ipyparallel) (22.3.0)\n",
      "Requirement already satisfied: tornado>=5.1 in d:\\2_miniconda\\lib\\site-packages (from ipyparallel) (6.1)\n",
      "Requirement already satisfied: jupyter-client in d:\\2_miniconda\\lib\\site-packages (from ipyparallel) (7.1.2)\n",
      "Collecting psutil\n",
      "  Downloading psutil-5.9.0-cp38-cp38-win_amd64.whl (246 kB)\n",
      "Requirement already satisfied: ipython>=4 in d:\\2_miniconda\\lib\\site-packages (from ipyparallel) (7.29.0)\n",
      "Requirement already satisfied: python-dateutil>=2.1 in d:\\2_miniconda\\lib\\site-packages (from ipyparallel) (2.8.2)\n",
      "Requirement already satisfied: tqdm in d:\\2_miniconda\\lib\\site-packages (from ipyparallel) (4.62.3)\n",
      "Requirement already satisfied: matplotlib-inline<0.2.0,>=0.1.0 in d:\\2_miniconda\\lib\\site-packages (from ipykernel>=4.4->ipyparallel) (0.1.2)\n",
      "Requirement already satisfied: ipython-genutils in d:\\2_miniconda\\lib\\site-packages (from ipykernel>=4.4->ipyparallel) (0.2.0)\n",
      "Requirement already satisfied: debugpy<2.0,>=1.0.0 in d:\\2_miniconda\\lib\\site-packages (from ipykernel>=4.4->ipyparallel) (1.5.1)\n",
      "Requirement already satisfied: nest-asyncio>=1.5 in d:\\2_miniconda\\lib\\site-packages (from jupyter-client->ipyparallel) (1.5.1)\n",
      "Requirement already satisfied: jupyter-core>=4.6.0 in d:\\2_miniconda\\lib\\site-packages (from jupyter-client->ipyparallel) (4.9.1)\n",
      "Requirement already satisfied: pickleshare in d:\\2_miniconda\\lib\\site-packages (from ipython>=4->ipyparallel) (0.7.5)\n",
      "Requirement already satisfied: colorama; sys_platform == \"win32\" in d:\\2_miniconda\\lib\\site-packages (from ipython>=4->ipyparallel) (0.4.4)\n",
      "Requirement already satisfied: setuptools>=18.5 in d:\\2_miniconda\\lib\\site-packages (from ipython>=4->ipyparallel) (58.0.4)\n",
      "Requirement already satisfied: pygments in d:\\2_miniconda\\lib\\site-packages (from ipython>=4->ipyparallel) (2.10.0)\n",
      "Requirement already satisfied: prompt-toolkit!=3.0.0,!=3.0.1,<3.1.0,>=2.0.0 in d:\\2_miniconda\\lib\\site-packages (from ipython>=4->ipyparallel) (3.0.20)\n",
      "Requirement already satisfied: jedi>=0.16 in d:\\2_miniconda\\lib\\site-packages (from ipython>=4->ipyparallel) (0.18.0)\n",
      "Requirement already satisfied: backcall in d:\\2_miniconda\\lib\\site-packages (from ipython>=4->ipyparallel) (0.2.0)\n",
      "Requirement already satisfied: six>=1.5 in d:\\2_miniconda\\lib\\site-packages (from python-dateutil>=2.1->ipyparallel) (1.16.0)\n",
      "Requirement already satisfied: pywin32>=1.0; sys_platform == \"win32\" and platform_python_implementation != \"PyPy\" in d:\\2_miniconda\\lib\\site-packages (from jupyter-core>=4.6.0->jupyter-client->ipyparallel) (302)\n",
      "Requirement already satisfied: wcwidth in d:\\2_miniconda\\lib\\site-packages (from prompt-toolkit!=3.0.0,!=3.0.1,<3.1.0,>=2.0.0->ipython>=4->ipyparallel) (0.2.5)\n",
      "Requirement already satisfied: parso<0.9.0,>=0.8.0 in d:\\2_miniconda\\lib\\site-packages (from jedi>=0.16->ipython>=4->ipyparallel) (0.8.3)\n",
      "Installing collected packages: psutil, ipyparallel\n",
      "Successfully installed ipyparallel-8.2.1 psutil-5.9.0\n",
      "Note: you may need to restart the kernel to use updated packages.\n"
     ]
    },
    {
     "name": "stderr",
     "output_type": "stream",
     "text": [
      "WARNING: You are using pip version 20.1.1; however, version 22.0.4 is available.\n",
      "You should consider upgrading via the 'D:\\2_Miniconda\\python.exe -m pip install --upgrade pip' command.\n"
     ]
    }
   ],
   "source": [
    "%pip install ipyparallel  "
   ]
  }
 ],
 "metadata": {
  "interpreter": {
   "hash": "75e27974d32de5d0427a767cc92cb918fe6ec5c98de5d64af36fdccca0e4bf90"
  },
  "kernelspec": {
   "display_name": "Python 3.8.5 ('base')",
   "language": "python",
   "name": "python3"
  },
  "language_info": {
   "codemirror_mode": {
    "name": "ipython",
    "version": 3
   },
   "file_extension": ".py",
   "mimetype": "text/x-python",
   "name": "python",
   "nbconvert_exporter": "python",
   "pygments_lexer": "ipython3",
   "version": "3.8.5"
  },
  "orig_nbformat": 4
 },
 "nbformat": 4,
 "nbformat_minor": 2
}
